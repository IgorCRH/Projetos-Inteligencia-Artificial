{
  "cells": [
    {
      "cell_type": "markdown",
      "metadata": {
        "id": "JC0t87zHF9mq"
      },
      "source": [
        "Importando as Bibiliotecas"
      ]
    },
    {
      "cell_type": "code",
      "execution_count": null,
      "metadata": {
        "id": "gBBRpGPVAu5d"
      },
      "outputs": [],
      "source": [
        "import random"
      ]
    },
    {
      "cell_type": "markdown",
      "metadata": {
        "id": "wKjmqYj7GFNN"
      },
      "source": [
        "Dados das Ações do Enunciado"
      ]
    },
    {
      "cell_type": "code",
      "execution_count": null,
      "metadata": {
        "id": "JIX52iI2GEi4"
      },
      "outputs": [],
      "source": [
        "acoesempresas = [\n",
        "    [\"Banco Brasil ON\", \"BBAS3\", 0.37, 2.48],\n",
        "    [\"Bradesco PN\", \"BBDC4\", 0.24, 2.16],\n",
        "    [\"Eletrobrás PNB\", \"ELET6\", 0.14, 1.95],\n",
        "    [\"Gerdau PN\", \"GGBR4\", 0.30, 2.93],\n",
        "    [\"Itausa PN\", \"ITSA4\", 0.24, 2.40],\n",
        "    [\"Petrobras PN\", \"PETR4\", 0.19, 2.00],\n",
        "    [\"Sid Nacional ON\", \"CSNA3\", 0.28, 2.63],\n",
        "    [\"Telemar PN\", \"TNLP4\", 0.18, 2.14],\n",
        "    [\"Usiminas PNA\", \"USIM5\", 0.25, 2.73],\n",
        "    [\"Vale PNA\", \"VALE5\", 0.24, 2.47],\n",
        "    [\"Magalu MGLU3\", \"MGLU3\", 0.31, 2.7],\n",
        "    [\"Hapvida HAPV3\", \"HAPV3\", 0.26, 2.13],\n",
        "    [\"Boa Vista S.A BRAV2\", \"BRAV2\", 0.33, 2.00],\n",
        "    [\"Espacolaser ESPA3\", \"ESPA3\", 0.23, 2.20],\n",
        "    [\"Focus Energia POWE3\", \"POWE3\", 0.29, 1.99],\n",
        "    [\"HBR Realty HBRE3\", \"HBRE3\", 0.32, 2.83],\n",
        "    [\"CSN Mineração CMIN3\", \"CMIN3\", 0.22, 2.65],\n",
        "    [\"Intelbras INTB3\", \"INTB3\", 0.30, 2.80],\n",
        "    [\"Méliuz S.A. CASH3\", \"CASH3\", 0.23, 2.32],\n",
        "    [\"Mosaico MOSI3\", \"MOSI3\", 0.25, 2.16],\n",
        "    [\"Simpar S.A. SEQL3\", \"SEQL3\", 0.25, 2.65],\n",
        "    [\"Vamos VAMO3\", \"VAMO3\", 0.25, 2.50],\n",
        "    [\"Westwing WEST3\", \"WEST3\", 0.27, 2.53]\n",
        "]"
      ]
    },
    {
      "cell_type": "markdown",
      "metadata": {
        "id": "jR5x8IJYG3K8"
      },
      "source": [
        "Definindo População e Cromossomo"
      ]
    },
    {
      "cell_type": "code",
      "execution_count": null,
      "metadata": {
        "id": "4y2ApY5aG15w"
      },
      "outputs": [],
      "source": [
        "tamanhocromossomo = len(acoes_empresas)\n",
        "\n",
        "taxademutacao = 0.1\n",
        "\n",
        "tamanhopopulacao = 23"
      ]
    },
    {
      "cell_type": "markdown",
      "metadata": {
        "id": "6O5OlALDHp1y"
      },
      "source": [
        "Inicialização da População"
      ]
    },
    {
      "cell_type": "code",
      "execution_count": null,
      "metadata": {
        "id": "jJRMam5hHYUj"
      },
      "outputs": [],
      "source": [
        "def inicializarpopulacao():\n",
        "  return [[random.randint(0,1) for _ in range(tamanhocromossomo)] for _ in range (tamanhopopulacao)]"
      ]
    },
    {
      "cell_type": "markdown",
      "metadata": {
        "id": "2C4OU1C8IVHH"
      },
      "source": [
        "Calcular Lucro e Risco Estimado"
      ]
    },
    {
      "cell_type": "code",
      "execution_count": null,
      "metadata": {
        "id": "_DnTv3XZIUc6"
      },
      "outputs": [],
      "source": [
        "def calcular_lucro_risco_estimado(conjunto):\n",
        "  lucroestimado = 0\n",
        "  riscoestimado = 0\n",
        "\n",
        "  for i in range (tamanhopopulacao):\n",
        "    lucroestimado += conjunto[i] * acoesempresas[i][2]\n",
        "    riscoestimado += conjunto[i] * acoesempresas[i][3]\n",
        "  return lucroestimado,riscoestimado"
      ]
    },
    {
      "cell_type": "markdown",
      "metadata": {
        "id": "1vYPpAFjJPt8"
      },
      "source": [
        "Seleção, Cruzamento e Mutação"
      ]
    },
    {
      "cell_type": "code",
      "execution_count": 16,
      "metadata": {
        "id": "2AzQZ-WdJOsS"
      },
      "outputs": [],
      "source": [
        "def selecao(populacao):\n",
        "  return sorted(populacao, key=lambda x:calcular_lucro_risco_estimado(x)[0],reverse=True)[:int(tamanhopopulacao/2)]\n",
        "\n",
        "def cruzamento(empresa1,empresa2):\n",
        "  ponto_de_cruzamento = random.randint(1, tamanhocromossomo - 1)\n",
        "\n",
        "  empresafilha1 = empresa1[ponto_de_cruzamento:] + empresa2[:ponto_de_cruzamento]\n",
        "  empresafilha2 = empresa2[ponto_de_cruzamento:] + empresa1[:ponto_de_cruzamento]\n",
        "  return empresafilha1,empresafilha2\n",
        "\n",
        "def mutacao(empresa):\n",
        "  populacaomutacao = []\n",
        "\n",
        "  for i in range (tamanhocromossomo):\n",
        "      if random.random() < taxademutacao:\n",
        "        empresa[i] = 1 - empresa[i]\n",
        "\n",
        "  return empresa"
      ]
    },
    {
      "cell_type": "markdown",
      "metadata": {
        "id": "tbPhgP1cMI8R"
      },
      "source": [
        "Definindo o Algoritmo"
      ]
    },
    {
      "cell_type": "code",
      "execution_count": 24,
      "metadata": {
        "colab": {
          "base_uri": "https://localhost:8080/"
        },
        "id": "H4p3SnuQMMEe",
        "outputId": "cd913441-3ef5-431d-de51-e5387a3e187f"
      },
      "outputs": [
        {
          "output_type": "stream",
          "name": "stdout",
          "text": [
            "Melhor retorno para um risco de 10%: 5.6899999999999995%\n",
            "Empresa com ação de maior retorno no conjunto com melhor retorno e risco: Banco Brasil ON\n",
            "Melhor retorno para um risco de 20%: 5.9399999999999995%\n",
            "Empresa com ação de maior retorno no conjunto com melhor retorno e risco: Banco Brasil ON\n",
            "Melhor retorno para um risco de 25%: 5.25%\n",
            "Empresa com ação de maior retorno no conjunto com melhor retorno e risco: Banco Brasil ON\n",
            "Melhor retorno para um risco de 30%: 5.57%\n",
            "Empresa com ação de maior retorno no conjunto com melhor retorno e risco: Bradesco PN\n"
          ]
        }
      ],
      "source": [
        "def algoritmo(objetivo_risco):\n",
        "    populacao = inicializarpopulacao()\n",
        "    geracoes = 100\n",
        "    for _ in range(geracoes):\n",
        "        populacao = selecao(populacao)\n",
        "        novapopulacao = []\n",
        "        while len(novapopulacao) < tamanhopopulacao:\n",
        "            empresa1 = random.choice(populacao)\n",
        "            empresa2 = random.choice(populacao)\n",
        "            empresafilha1, empresafilha2 = cruzamento(empresa1, empresa2)\n",
        "            empresafilha1 = mutacao(empresafilha1)\n",
        "            empresafilha2 = mutacao(empresafilha2)\n",
        "            novapopulacao.append(empresafilha1)\n",
        "            novapopulacao.append(empresafilha2)\n",
        "        populacao = novapopulacao\n",
        "    melhorconjunto = max(populacao, key=lambda x: calcular_lucro_risco_estimado(x)[0])\n",
        "    melhorretorno, melhorrisco = calcular_lucro_risco_estimado(melhorconjunto)\n",
        "    print(\"Melhor retorno para um risco de {}%: {}%\".format(objetivo_risco, melhorretorno))\n",
        "\n",
        "    nome_empresa_maior_retorno = [acoesempresas[i][0] for i in range(len(melhorconjunto)) if melhorconjunto[i] == 1]\n",
        "    print(\"Empresa com ação de maior retorno no conjunto com melhor retorno e risco: {}\".format(nome_empresa_maior_retorno[0]))\n",
        "\n",
        "\n",
        "algoritmo(10)\n",
        "algoritmo(20)\n",
        "algoritmo(25)\n",
        "algoritmo(30)"
      ]
    },
    {
      "cell_type": "code",
      "source": [],
      "metadata": {
        "id": "3i_QWCl6Y9Rx"
      },
      "execution_count": null,
      "outputs": []
    }
  ],
  "metadata": {
    "colab": {
      "provenance": []
    },
    "kernelspec": {
      "display_name": "Python 3",
      "name": "python3"
    },
    "language_info": {
      "name": "python"
    }
  },
  "nbformat": 4,
  "nbformat_minor": 0
}